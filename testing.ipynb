{
 "cells": [
  {
   "cell_type": "code",
   "execution_count": 26,
   "id": "639af50e-faa3-44ab-b3f9-c4a5ec9a6868",
   "metadata": {},
   "outputs": [
    {
     "name": "stdout",
     "output_type": "stream",
     "text": [
      "The autoreload extension is already loaded. To reload it, use:\n",
      "  %reload_ext autoreload\n"
     ]
    }
   ],
   "source": [
    "%load_ext autoreload\n",
    "%autoreload 2\n",
    "from align import *\n",
    "import numpy as np"
   ]
  },
  {
   "cell_type": "code",
   "execution_count": 33,
   "id": "7605f0bd-073a-45c6-a622-1844d3754c11",
   "metadata": {},
   "outputs": [],
   "source": [
    "hs_seq, hs_header = read_fasta(\"./data/Homo_sapiens_BRD2.fa\")\n",
    "gg_seq, gg_header = read_fasta(\"./data/Gallus_gallus_BRD2.fa\")\n",
    "seq3, _ = read_fasta(\"./data/test_seq3.fa\")\n",
    "seq4, _ = read_fasta(\"./data/test_seq4.fa\")\n",
    "seq1, _ = read_fasta(\"./data/test_seq1.fa\")\n",
    "seq2, _ = read_fasta(\"./data/test_seq2.fa\")"
   ]
  },
  {
   "cell_type": "code",
   "execution_count": 18,
   "id": "3db5619e-fad6-4ce2-aeb7-6c06ede85c20",
   "metadata": {},
   "outputs": [],
   "source": [
    "g = align.NeedlemanWunsch(sub_matrix_file='substitution_matrices/BLOSUM62.mat', gap_open=-10, gap_extend =-1)"
   ]
  },
  {
   "cell_type": "code",
   "execution_count": 52,
   "id": "af939a59-7aa5-490d-a5a2-7a25a7dde9e0",
   "metadata": {},
   "outputs": [
    {
     "data": {
      "text/plain": [
       "(17.0, 'MAVHQLIRRP', 'M___QLIRHP')"
      ]
     },
     "execution_count": 52,
     "metadata": {},
     "output_type": "execute_result"
    }
   ],
   "source": [
    "g.align(seq3, seq4)"
   ]
  },
  {
   "cell_type": "code",
   "execution_count": 27,
   "id": "cdb76c25-500f-49aa-badc-8ea2e3023692",
   "metadata": {},
   "outputs": [
    {
     "data": {
      "text/plain": [
       "array([[-inf, -inf, -inf, -inf, -inf, -inf, -inf, -inf],\n",
       "       [-inf, -inf, -inf, -inf, -inf, -inf, -inf, -inf],\n",
       "       [-inf, -inf, -inf, -inf, -inf, -inf, -inf, -inf],\n",
       "       [-inf, -inf, -inf, -inf, -inf, -inf, -inf, -inf],\n",
       "       [-inf, -inf, -inf, -inf, -inf, -inf, -inf, -inf],\n",
       "       [-inf, -inf, -inf, -inf, -inf, -inf, -inf, -inf],\n",
       "       [-inf, -inf, -inf, -inf, -inf, -inf, -inf, -inf],\n",
       "       [-inf, -inf, -inf, -inf, -inf, -inf, -inf, -inf],\n",
       "       [-inf, -inf, -inf, -inf, -inf, -inf, -inf, -inf],\n",
       "       [-inf, -inf, -inf, -inf, -inf, -inf, -inf, -inf],\n",
       "       [-inf, -inf, -inf, -inf, -inf, -inf, -inf, -inf]])"
      ]
     },
     "execution_count": 27,
     "metadata": {},
     "output_type": "execute_result"
    }
   ],
   "source": [
    "np.ones((len(seq3) + 1, len(seq4) + 1)) * -np.inf"
   ]
  },
  {
   "cell_type": "code",
   "execution_count": 39,
   "id": "47a41519-cc0e-4108-a6af-41017922e7a3",
   "metadata": {},
   "outputs": [
    {
     "data": {
      "text/plain": [
       "'MYQR'"
      ]
     },
     "execution_count": 39,
     "metadata": {},
     "output_type": "execute_result"
    }
   ],
   "source": [
    "seq1"
   ]
  },
  {
   "cell_type": "code",
   "execution_count": 40,
   "id": "69c8f3de-0d06-498d-b4d7-3b820b8dfc59",
   "metadata": {},
   "outputs": [
    {
     "data": {
      "text/plain": [
       "'MQR'"
      ]
     },
     "execution_count": 40,
     "metadata": {},
     "output_type": "execute_result"
    }
   ],
   "source": [
    "seq2"
   ]
  },
  {
   "cell_type": "code",
   "execution_count": 41,
   "id": "e02c5579-4da7-4865-ac68-d5403ad6c8b1",
   "metadata": {},
   "outputs": [
    {
     "data": {
      "text/plain": [
       "array([[-10., -11., -12., -13.],\n",
       "       [-inf, -12., -13., -14.],\n",
       "       [-inf,  -6., -14., -15.],\n",
       "       [-inf,  -7.,  -7., -16.],\n",
       "       [-inf,  -8.,  -8.,  -6.]])"
      ]
     },
     "execution_count": 41,
     "metadata": {},
     "output_type": "execute_result"
    }
   ],
   "source": [
    "g._gapB_matrix"
   ]
  },
  {
   "cell_type": "code",
   "execution_count": 51,
   "id": "91fb9ec5-f861-444e-b5e8-6ce71f99c582",
   "metadata": {},
   "outputs": [
    {
     "data": {
      "text/plain": [
       "array([[-10., -inf, -inf, -inf],\n",
       "       [-11., -12.,  -6.,  -7.],\n",
       "       [-12., -13., -14.,  -7.],\n",
       "       [-13., -14., -15., -12.],\n",
       "       [-14., -15., -16., -17.]])"
      ]
     },
     "execution_count": 51,
     "metadata": {},
     "output_type": "execute_result"
    }
   ],
   "source": [
    "g._gapA_matrix"
   ]
  },
  {
   "cell_type": "code",
   "execution_count": 45,
   "id": "ad049d82-b08a-4a7d-97fa-35622e5f89c6",
   "metadata": {},
   "outputs": [
    {
     "data": {
      "text/plain": [
       "array([[  0., -inf, -inf, -inf],\n",
       "       [-inf,   5., -11., -13.],\n",
       "       [-inf, -12.,   4.,  -8.],\n",
       "       [-inf, -12.,  -1.,   5.],\n",
       "       [-inf, -14.,  -6.,   4.]])"
      ]
     },
     "execution_count": 45,
     "metadata": {},
     "output_type": "execute_result"
    }
   ],
   "source": [
    "g._align_matrix"
   ]
  },
  {
   "cell_type": "code",
   "execution_count": 46,
   "id": "ea54aa1b-10c5-49ad-9ddb-ab818fd77adc",
   "metadata": {},
   "outputs": [
    {
     "data": {
      "text/plain": [
       "array([[-inf, -inf, -inf, -inf],\n",
       "       [-inf,   0.,  -1.,  -1.],\n",
       "       [-inf,   1.,   0.,  -1.],\n",
       "       [-inf,   1.,   0.,   0.],\n",
       "       [-inf,   1.,   0.,   0.]])"
      ]
     },
     "execution_count": 46,
     "metadata": {},
     "output_type": "execute_result"
    }
   ],
   "source": [
    "g._back"
   ]
  },
  {
   "cell_type": "code",
   "execution_count": 43,
   "id": "d9e3d43c-b4fb-4a49-8754-cd15a7accb32",
   "metadata": {},
   "outputs": [
    {
     "name": "stdout",
     "output_type": "stream",
     "text": [
      "M\n",
      "M\n",
      "M\n",
      "Q\n",
      "M\n",
      "R\n",
      "Y\n",
      "M\n",
      "Y\n",
      "Q\n",
      "Y\n",
      "R\n",
      "Q\n",
      "M\n",
      "Q\n",
      "Q\n",
      "Q\n",
      "R\n",
      "R\n",
      "M\n",
      "R\n",
      "Q\n",
      "R\n",
      "R\n"
     ]
    }
   ],
   "source": [
    "for i in range(1, len(seq1) + 1):\n",
    "    for j in range(1, len(seq2) + 1):\n",
    "        A = seq1[i-1]\n",
    "        B = seq2[j-1]\n",
    "        \n",
    "        "
   ]
  },
  {
   "cell_type": "code",
   "execution_count": null,
   "id": "42a28397-4152-432b-a1e0-a5b9507e5d89",
   "metadata": {},
   "outputs": [],
   "source": []
  }
 ],
 "metadata": {
  "kernelspec": {
   "display_name": "Python [conda env:BMI203]",
   "language": "python",
   "name": "conda-env-BMI203-py"
  },
  "language_info": {
   "codemirror_mode": {
    "name": "ipython",
    "version": 3
   },
   "file_extension": ".py",
   "mimetype": "text/x-python",
   "name": "python",
   "nbconvert_exporter": "python",
   "pygments_lexer": "ipython3",
   "version": "3.10.8"
  }
 },
 "nbformat": 4,
 "nbformat_minor": 5
}
